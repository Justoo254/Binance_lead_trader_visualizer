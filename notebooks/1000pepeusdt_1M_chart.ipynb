{
 "cells": [
  {
   "cell_type": "markdown",
   "id": "01b1f8f3-7a36-4eec-a4dd-0e9da148befb",
   "metadata": {},
   "source": [
    "# Introduction\n",
    "In this notebook I intend to:\n",
    "1. Import a five minute OHLCV data from binance for ONDOUSDT symbol and convert it into a csv data\n",
    "I needed data for only one month so my start date was 2025-02-24 00:00:00  and end date was 2025-03-27 24:59:59.\n",
    "2. Plot the one month 5 min ondousdt data using plotly          \n",
    "Note that I used binance futures end point because I was analyzing lead trader's futures trade history."
   ]
  },
  {
   "cell_type": "code",
   "execution_count": 1,
   "id": "c821471b-90e7-467c-a623-015deb966a10",
   "metadata": {},
   "outputs": [],
   "source": [
    "#Importing required libraries\n",
    "import requests\n",
    "import pandas as pd\n",
    "import time\n",
    "from datetime import datetime, timedelta, timezone\n",
    "from tqdm import tqdm  # Progress bar\n",
    "import plotly.graph_objects as go\n",
    "from scripts.fetch_symbol import fetch_symbol\n",
    "from  scripts.plot_candlesticks import plot_candlesticks"
   ]
  },
  {
   "cell_type": "code",
   "execution_count": null,
   "id": "9e209b3d-b185-4457-ad37-9be3eeb13d90",
   "metadata": {},
   "outputs": [],
   "source": [
    "#We have defined the function in  'fetch_symbol.py'\n",
    "df_1000pepeusdt_ohlcv= fetch_symbol(symbol=\"1000PEPEUSDT\", start_time=\"2025-01-27 00:00:00\", end_time=\"2025-03-21 23:59:59\")\n",
    "df_1000pepeusdt_ohlcv.head()"
   ]
  },
  {
   "cell_type": "markdown",
   "id": "9456ef06-e240-4cd4-b27f-50bc6be6f301",
   "metadata": {},
   "source": [
    "We will now save the data frame into our data directory. Since we will be working with OHLCV (actually OHLC-but for formalities lets include volume) data, I will only take the first five columns. "
   ]
  },
  {
   "cell_type": "code",
   "execution_count": null,
   "id": "6df76c3f-397d-4c92-8e50-fe68aa1a5c8e",
   "metadata": {},
   "outputs": [],
   "source": [
    "df_1000pepeusdt_ohlcv = df_1000pepeusdt_ohlcv[[ \"open\", \"high\", \"low\", \"close\", \"volume\"]]\n",
    "filename = \"../data/1000pepeusdt_2025-01-27_00-00-00_2025-03-21_23-59-59.csv\"\n",
    "df_1000pepeusdt_ohlcv.reset_index().to_csv(filename, index=False)\n"
   ]
  },
  {
   "cell_type": "markdown",
   "id": "bbe1e3bc-a54e-47b2-af51-57b2abb5de3e",
   "metadata": {},
   "source": [
    "## DATA VISUALIZATION\n",
    "**Candlestick chart**"
   ]
  },
  {
   "cell_type": "code",
   "execution_count": 2,
   "id": "69cf89a1-7c87-4750-9fb0-d96d7b2ab5a7",
   "metadata": {},
   "outputs": [],
   "source": [
    "df = pd.read_csv(\"../data/1000pepeusdt_2025-01-27_00-00-00_2025-03-21_23-59-59.csv\", parse_dates=[\"timestamp\"])\n",
    "df.set_index(\"timestamp\", inplace=True)\n",
    "df=df.tail(200)\n"
   ]
  },
  {
   "cell_type": "code",
   "execution_count": null,
   "id": "19e11a0f-ace4-4da3-8356-53f5bf246d6c",
   "metadata": {},
   "outputs": [],
   "source": [
    "plot_candlesticks(df=df, symbol=\"1000PEPEUSDT\",interval=\"5 M\")"
   ]
  },
  {
   "cell_type": "code",
   "execution_count": null,
   "id": "60ead91c-a29d-486c-9825-61fafb5df3c3",
   "metadata": {},
   "outputs": [],
   "source": []
  }
 ],
 "metadata": {
  "kernelspec": {
   "display_name": "Python 3 (ipykernel)",
   "language": "python",
   "name": "python3"
  },
  "language_info": {
   "codemirror_mode": {
    "name": "ipython",
    "version": 3
   },
   "file_extension": ".py",
   "mimetype": "text/x-python",
   "name": "python",
   "nbconvert_exporter": "python",
   "pygments_lexer": "ipython3",
   "version": "3.10.12"
  }
 },
 "nbformat": 4,
 "nbformat_minor": 5
}
