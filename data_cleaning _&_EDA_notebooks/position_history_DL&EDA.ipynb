{
 "cells": [
  {
   "cell_type": "markdown",
   "id": "cf1211ca-cd5e-4f8c-b630-b606777bd36c",
   "metadata": {},
   "source": [
    "# Introduction\n",
    "In this notebook I will be working with a lead traders position history data from binance. Since binance does not offer an API endpoint for fetching this kind of data, I used a data miner to scrap the data. For privacy purposes,I will not be mentioning the lead traders name.The data  for the past 1 month is also publicly available at binance and so I believe this analysis does not violate any privacy.The purpose of this analysis is to:\n",
    "1. Clean the  data\n",
    "2. Perform EDA on the trade history - Identifying longest held trade, Highest loss and profit etc<br>\n",
    "I will only remain with Symbol, Opened Time, Entry Price, Closing PNL, Closed Time and  Avg Close Price since these are only columns we will be working with.The data spans from 2024-04-29 upto 2025-03-08 with 1661 datasets."
   ]
  },
  {
   "cell_type": "markdown",
   "id": "3b84c32f-46df-4562-90ae-e2185d142b95",
   "metadata": {},
   "source": [
    "### 1.Cleaning the Data"
   ]
  },
  {
   "cell_type": "code",
   "execution_count": 1,
   "id": "7ea3266f-ccf9-45cb-903a-a2affcf92984",
   "metadata": {},
   "outputs": [],
   "source": [
    "#Import required libraries\n",
    "import pandas as pd\n",
    "from datetime  import datetime\n",
    "import matplotlib.pyplot as plt\n",
    "import numpy as np"
   ]
  },
  {
   "cell_type": "code",
   "execution_count": 2,
   "id": "4aece4a5-5919-4a04-87da-63633ba9b529",
   "metadata": {},
   "outputs": [
    {
     "data": {
      "text/plain": [
       "(1660, 8)"
      ]
     },
     "execution_count": 2,
     "metadata": {},
     "output_type": "execute_result"
    }
   ],
   "source": [
    "df_trade_history = pd.read_csv(\"../data/lead_traders_1M_tr.csv\")\n",
    "df_trade_history.shape"
   ]
  },
  {
   "cell_type": "code",
   "execution_count": 3,
   "id": "b4e3812a-8607-498b-b21b-8d18d5b0eff7",
   "metadata": {},
   "outputs": [
    {
     "data": {
      "text/html": [
       "<div>\n",
       "<style scoped>\n",
       "    .dataframe tbody tr th:only-of-type {\n",
       "        vertical-align: middle;\n",
       "    }\n",
       "\n",
       "    .dataframe tbody tr th {\n",
       "        vertical-align: top;\n",
       "    }\n",
       "\n",
       "    .dataframe thead th {\n",
       "        text-align: right;\n",
       "    }\n",
       "</style>\n",
       "<table border=\"1\" class=\"dataframe\">\n",
       "  <thead>\n",
       "    <tr style=\"text-align: right;\">\n",
       "      <th></th>\n",
       "      <th>Symbol</th>\n",
       "      <th>Opened Time</th>\n",
       "      <th>Entry Price</th>\n",
       "      <th>Max Open Interest</th>\n",
       "      <th>Closing PNL</th>\n",
       "      <th>Closed Time</th>\n",
       "      <th>Avg Close Price</th>\n",
       "      <th>Closed Volume</th>\n",
       "    </tr>\n",
       "  </thead>\n",
       "  <tbody>\n",
       "    <tr>\n",
       "      <th>0</th>\n",
       "      <td>DOGEUSDT</td>\n",
       "      <td>2025-03-08 01:10:32</td>\n",
       "      <td>0.197453 USDT</td>\n",
       "      <td>1,476 DOGE</td>\n",
       "      <td>+4.11 USDT</td>\n",
       "      <td>2025-03-08 04:02:19</td>\n",
       "      <td>0.200240 USDT</td>\n",
       "      <td>1,476 DOGE</td>\n",
       "    </tr>\n",
       "    <tr>\n",
       "      <th>1</th>\n",
       "      <td>1000PEPEUSDT</td>\n",
       "      <td>2025-03-08 01:10:32</td>\n",
       "      <td>0.0068907 USDT</td>\n",
       "      <td>67,689 1000PEPE</td>\n",
       "      <td>+4.67 USDT</td>\n",
       "      <td>2025-03-08 07:48:41</td>\n",
       "      <td>0.0069597 USDT</td>\n",
       "      <td>67,689 1000PEPE</td>\n",
       "    </tr>\n",
       "    <tr>\n",
       "      <th>2</th>\n",
       "      <td>RENDERUSDT</td>\n",
       "      <td>2025-03-08 01:10:18</td>\n",
       "      <td>3.5697050 USDT</td>\n",
       "      <td>132.2 RENDER</td>\n",
       "      <td>+0.44 USDT</td>\n",
       "      <td>2025-03-08 07:35:43</td>\n",
       "      <td>3.5730000 USDT</td>\n",
       "      <td>132.2 RENDER</td>\n",
       "    </tr>\n",
       "    <tr>\n",
       "      <th>3</th>\n",
       "      <td>XRPUSDT</td>\n",
       "      <td>2025-03-08 00:55:38</td>\n",
       "      <td>2.3616 USDT</td>\n",
       "      <td>202.2 XRP</td>\n",
       "      <td>-1.01 USDT</td>\n",
       "      <td>2025-03-08 17:06:27</td>\n",
       "      <td>2.3566 USDT</td>\n",
       "      <td>202.2 XRP</td>\n",
       "    </tr>\n",
       "    <tr>\n",
       "      <th>4</th>\n",
       "      <td>SUIUSDT</td>\n",
       "      <td>2025-03-08 00:07:39</td>\n",
       "      <td>2.594085 USDT</td>\n",
       "      <td>185.7 SUI</td>\n",
       "      <td>+2.55 USDT</td>\n",
       "      <td>2025-03-08 07:26:27</td>\n",
       "      <td>2.607800 USDT</td>\n",
       "      <td>185.7 SUI</td>\n",
       "    </tr>\n",
       "  </tbody>\n",
       "</table>\n",
       "</div>"
      ],
      "text/plain": [
       "         Symbol          Opened Time     Entry Price Max Open Interest  \\\n",
       "0      DOGEUSDT  2025-03-08 01:10:32   0.197453 USDT        1,476 DOGE   \n",
       "1  1000PEPEUSDT  2025-03-08 01:10:32  0.0068907 USDT   67,689 1000PEPE   \n",
       "2    RENDERUSDT  2025-03-08 01:10:18  3.5697050 USDT      132.2 RENDER   \n",
       "3       XRPUSDT  2025-03-08 00:55:38     2.3616 USDT         202.2 XRP   \n",
       "4       SUIUSDT  2025-03-08 00:07:39   2.594085 USDT         185.7 SUI   \n",
       "\n",
       "  Closing PNL          Closed Time Avg Close Price    Closed Volume  \n",
       "0  +4.11 USDT  2025-03-08 04:02:19   0.200240 USDT       1,476 DOGE  \n",
       "1  +4.67 USDT  2025-03-08 07:48:41  0.0069597 USDT  67,689 1000PEPE  \n",
       "2  +0.44 USDT  2025-03-08 07:35:43  3.5730000 USDT     132.2 RENDER  \n",
       "3  -1.01 USDT  2025-03-08 17:06:27     2.3566 USDT        202.2 XRP  \n",
       "4  +2.55 USDT  2025-03-08 07:26:27   2.607800 USDT        185.7 SUI  "
      ]
     },
     "execution_count": 3,
     "metadata": {},
     "output_type": "execute_result"
    }
   ],
   "source": [
    "df_trade_history.head()"
   ]
  },
  {
   "cell_type": "code",
   "execution_count": 4,
   "id": "140d2e10-9d25-4db0-a4d6-8ff63f196a65",
   "metadata": {},
   "outputs": [],
   "source": [
    "def clean_trade_history(filepath):\n",
    "    df_trade_history = pd.read_csv(filepath)\n",
    "    #Rename columns\n",
    "    \n",
    "    # Clean columns by removing \"USDT\" and stripping spaces, then convert to float\n",
    "    cols_to_clean = [\"Entry Price\", \"Closing PNL\", \"Avg Close Price\"]\n",
    "    df_trade_history[cols_to_clean] = df_trade_history[cols_to_clean].apply(\n",
    "        lambda col: col.str.replace(\"USDT\", \"\").str.strip()\n",
    "    ).astype(float)\n",
    "\n",
    "    # Rename columns \n",
    "    df_trade_history = df_trade_history.rename(columns={\n",
    "        \"Entry Price\": \"Entry Price (USDT)\",\n",
    "        \"Avg Close Price\": \"Avg Close Price (USDT)\",\n",
    "        \"Closing PNL\": \"Closing PnL (USDT)\"\n",
    "    })\n",
    "    #Convert Closed Time & Closed Time to date time\n",
    "    df_trade_history[\"Opened Time\"] = pd.to_datetime(df_trade_history[\"Opened Time\"])\n",
    "    df_trade_history[\"Closed Time\"] = pd.to_datetime(df_trade_history[\"Closed Time\"])\n",
    "    df_trade_history = df_trade_history[[\"Symbol\",\"Opened Time\", \"Entry Price (USDT)\", \"Closing PnL (USDT)\", \"Closed Time\",\"Avg Close Price (USDT)\"]]\n",
    "    return df_trade_history\n"
   ]
  },
  {
   "cell_type": "code",
   "execution_count": 5,
   "id": "4f2c0b23-7ff3-4475-b33d-edccc4b30b43",
   "metadata": {},
   "outputs": [
    {
     "data": {
      "text/html": [
       "<div>\n",
       "<style scoped>\n",
       "    .dataframe tbody tr th:only-of-type {\n",
       "        vertical-align: middle;\n",
       "    }\n",
       "\n",
       "    .dataframe tbody tr th {\n",
       "        vertical-align: top;\n",
       "    }\n",
       "\n",
       "    .dataframe thead th {\n",
       "        text-align: right;\n",
       "    }\n",
       "</style>\n",
       "<table border=\"1\" class=\"dataframe\">\n",
       "  <thead>\n",
       "    <tr style=\"text-align: right;\">\n",
       "      <th></th>\n",
       "      <th>Symbol</th>\n",
       "      <th>Opened Time</th>\n",
       "      <th>Entry Price (USDT)</th>\n",
       "      <th>Closing PnL (USDT)</th>\n",
       "      <th>Closed Time</th>\n",
       "      <th>Avg Close Price (USDT)</th>\n",
       "    </tr>\n",
       "  </thead>\n",
       "  <tbody>\n",
       "    <tr>\n",
       "      <th>0</th>\n",
       "      <td>DOGEUSDT</td>\n",
       "      <td>2025-03-08 01:10:32</td>\n",
       "      <td>0.197453</td>\n",
       "      <td>4.11</td>\n",
       "      <td>2025-03-08 04:02:19</td>\n",
       "      <td>0.20024</td>\n",
       "    </tr>\n",
       "    <tr>\n",
       "      <th>1</th>\n",
       "      <td>1000PEPEUSDT</td>\n",
       "      <td>2025-03-08 01:10:32</td>\n",
       "      <td>0.006891</td>\n",
       "      <td>4.67</td>\n",
       "      <td>2025-03-08 07:48:41</td>\n",
       "      <td>0.00696</td>\n",
       "    </tr>\n",
       "    <tr>\n",
       "      <th>2</th>\n",
       "      <td>RENDERUSDT</td>\n",
       "      <td>2025-03-08 01:10:18</td>\n",
       "      <td>3.569705</td>\n",
       "      <td>0.44</td>\n",
       "      <td>2025-03-08 07:35:43</td>\n",
       "      <td>3.57300</td>\n",
       "    </tr>\n",
       "    <tr>\n",
       "      <th>3</th>\n",
       "      <td>XRPUSDT</td>\n",
       "      <td>2025-03-08 00:55:38</td>\n",
       "      <td>2.361600</td>\n",
       "      <td>-1.01</td>\n",
       "      <td>2025-03-08 17:06:27</td>\n",
       "      <td>2.35660</td>\n",
       "    </tr>\n",
       "    <tr>\n",
       "      <th>4</th>\n",
       "      <td>SUIUSDT</td>\n",
       "      <td>2025-03-08 00:07:39</td>\n",
       "      <td>2.594085</td>\n",
       "      <td>2.55</td>\n",
       "      <td>2025-03-08 07:26:27</td>\n",
       "      <td>2.60780</td>\n",
       "    </tr>\n",
       "  </tbody>\n",
       "</table>\n",
       "</div>"
      ],
      "text/plain": [
       "         Symbol         Opened Time  Entry Price (USDT)  Closing PnL (USDT)  \\\n",
       "0      DOGEUSDT 2025-03-08 01:10:32            0.197453                4.11   \n",
       "1  1000PEPEUSDT 2025-03-08 01:10:32            0.006891                4.67   \n",
       "2    RENDERUSDT 2025-03-08 01:10:18            3.569705                0.44   \n",
       "3       XRPUSDT 2025-03-08 00:55:38            2.361600               -1.01   \n",
       "4       SUIUSDT 2025-03-08 00:07:39            2.594085                2.55   \n",
       "\n",
       "          Closed Time  Avg Close Price (USDT)  \n",
       "0 2025-03-08 04:02:19                 0.20024  \n",
       "1 2025-03-08 07:48:41                 0.00696  \n",
       "2 2025-03-08 07:35:43                 3.57300  \n",
       "3 2025-03-08 17:06:27                 2.35660  \n",
       "4 2025-03-08 07:26:27                 2.60780  "
      ]
     },
     "execution_count": 5,
     "metadata": {},
     "output_type": "execute_result"
    }
   ],
   "source": [
    "df_trade_history = clean_trade_history(\"../data/lead_traders_1M_tr.csv\")\n",
    "df_trade_history.head()"
   ]
  },
  {
   "cell_type": "code",
   "execution_count": 6,
   "id": "d1f2f803-2517-47d6-a797-4b7397db9423",
   "metadata": {},
   "outputs": [
    {
     "data": {
      "text/plain": [
       "0"
      ]
     },
     "execution_count": 6,
     "metadata": {},
     "output_type": "execute_result"
    }
   ],
   "source": [
    "df_trade_history.duplicated().sum()"
   ]
  },
  {
   "cell_type": "markdown",
   "id": "234df1f6-739f-4c73-af0b-347a6f1087df",
   "metadata": {},
   "source": [
    "### 2.Exploratory Data Analysis.\n",
    "After cleaning the data and ensuring there were no duplicates, we now begin our Exploratory Data Analysis. Ofcourse we start with the basics like max profit and loss, profit to loss ratio etc"
   ]
  },
  {
   "cell_type": "markdown",
   "id": "df58e2e1-9a0b-4e59-9edd-3c8bc7b887b9",
   "metadata": {},
   "source": [
    "**Max profit & loss**"
   ]
  },
  {
   "cell_type": "code",
   "execution_count": 7,
   "id": "1a124196-f1d7-487d-b9a3-98df6e716b61",
   "metadata": {},
   "outputs": [
    {
     "name": "stdout",
     "output_type": "stream",
     "text": [
      "The highest profit made in the period was 152.89 USDT and the highest loss was -185.05 USDT.\n"
     ]
    }
   ],
   "source": [
    "max_profit = df_trade_history[\"Closing PnL (USDT)\"].max()\n",
    "max_loss= df_trade_history[\"Closing PnL (USDT)\"].min()\n",
    "print(f\"The highest profit made in the period was {max_profit} USDT and the highest loss was {max_loss} USDT.\")"
   ]
  },
  {
   "cell_type": "markdown",
   "id": "703f3c72-0a50-4625-8be6-acc55916f726",
   "metadata": {},
   "source": [
    "**Longest held position held**"
   ]
  },
  {
   "cell_type": "code",
   "execution_count": 8,
   "id": "3086e6d4-24b5-4911-8fcc-b819c5be4b32",
   "metadata": {},
   "outputs": [
    {
     "data": {
      "text/plain": [
       "Symbol                           1000PEPEUSDT\n",
       "Opened Time               2024-08-03 18:22:13\n",
       "Entry Price (USDT)                   0.008406\n",
       "Closing PnL (USDT)                       4.05\n",
       "Closed Time               2024-08-09 01:07:23\n",
       "Avg Close Price (USDT)               0.008487\n",
       "Duration                      5 days 06:45:10\n",
       "Name: 950, dtype: object"
      ]
     },
     "execution_count": 8,
     "metadata": {},
     "output_type": "execute_result"
    }
   ],
   "source": [
    "df_trade_history[\"Duration\"] = df_trade_history[\"Closed Time\"] - df_trade_history[\"Opened Time\"]\n",
    "df_trade_history.loc[df_trade_history[\"Duration\"].idxmax()]"
   ]
  },
  {
   "cell_type": "markdown",
   "id": "545351cf-40d8-426f-a7a6-e7d05fd13b6c",
   "metadata": {},
   "source": [
    "**Mean PnL per trade**\n"
   ]
  },
  {
   "cell_type": "code",
   "execution_count": 9,
   "id": "ba68a00c-62d0-49b4-86b1-e98b1ec5015b",
   "metadata": {},
   "outputs": [
    {
     "name": "stdout",
     "output_type": "stream",
     "text": [
      "Mean PnL per trade: 3.37 USDT\n"
     ]
    }
   ],
   "source": [
    "mean_pnl = df_trade_history[\"Closing PnL (USDT)\"].mean()\n",
    "print(f\"Mean PnL per trade: {mean_pnl:.2f} USDT\")\n"
   ]
  },
  {
   "cell_type": "markdown",
   "id": "42bdbc14-23a3-4175-ba53-a012c2abd8ed",
   "metadata": {},
   "source": [
    "**Standard Deviation of PnL per Trade**\n",
    "    "
   ]
  },
  {
   "cell_type": "code",
   "execution_count": 10,
   "id": "31a4f453-d685-455b-a684-d03c45cfa6f9",
   "metadata": {},
   "outputs": [
    {
     "name": "stdout",
     "output_type": "stream",
     "text": [
      "Standard Deviation of PnL per trade: 17.18 USDT\n"
     ]
    }
   ],
   "source": [
    "std_pnl = df_trade_history[\"Closing PnL (USDT)\"].std()\n",
    "print(f\"Standard Deviation of PnL per trade: {std_pnl:.2f} USDT\")"
   ]
  },
  {
   "cell_type": "markdown",
   "id": "d24578fd-f93e-4914-92c6-024a7bb6137e",
   "metadata": {},
   "source": [
    "**Sharpe Ratio (Per Trade)**<br>\n",
    "-Risk adjusted metric<br>\n",
    "Note: This assumes 0 risk-free rate"
   ]
  },
  {
   "cell_type": "code",
   "execution_count": 11,
   "id": "8b28a7ca-1ab0-4e30-bb39-053dc34526f2",
   "metadata": {},
   "outputs": [
    {
     "name": "stdout",
     "output_type": "stream",
     "text": [
      "Sharpe Ratio per trade: 0.20\n"
     ]
    }
   ],
   "source": [
    "sharpe_trade = mean_pnl / std_pnl \n",
    "print(f\"Sharpe Ratio per trade: {sharpe_trade:.2f}\")\n"
   ]
  },
  {
   "cell_type": "markdown",
   "id": "39303b33-27fd-4e2e-a872-20c4949a1942",
   "metadata": {},
   "source": [
    "**Drawdown analysis** <br>\n",
    "% Drawdown = (Current Value - Peak Value) / Peak Value<br>\n",
    "Maximum drawdown = Find the minimum value of the calculated drawdowns.\n",
    "This minimum value (expressed as a negative percentage) represents the maximum drawdown.\n",
    "From the analysis below the highest drawdown was -643 USDT and it occurred on Dec 22nd 2024. The duration it took to recover was "
   ]
  },
  {
   "cell_type": "code",
   "execution_count": 12,
   "id": "df442f8f-dd44-4cb4-bea2-aa8b9976388f",
   "metadata": {},
   "outputs": [
    {
     "data": {
      "text/plain": [
       "-643.9"
      ]
     },
     "execution_count": 12,
     "metadata": {},
     "output_type": "execute_result"
    }
   ],
   "source": [
    "df_trade_history = df_trade_history.sort_values([\"Closed Time\", \"Opened Time\"])\n",
    "df_trade_history = df_trade_history.reset_index(drop=True)\n",
    "df_trade_history[\"Cumulative PnL\"] = df_trade_history[\"Closing PnL (USDT)\"].cumsum()\n",
    "df_trade_history[\"Running Max\"] = df_trade_history[\"Cumulative PnL\"].cummax()\n",
    "df_trade_history[\"Drawdown\"] =df_trade_history[\"Cumulative PnL\"]-df_trade_history[\"Running Max\"]\n",
    "max_drawdown = round(df_trade_history[\"Drawdown\"].min(), 1)\n",
    "max_drawdown"
   ]
  },
  {
   "cell_type": "code",
   "execution_count": 13,
   "id": "eb7cb913-12b0-44fa-9a4f-e8a058b74e2e",
   "metadata": {},
   "outputs": [
    {
     "name": "stdout",
     "output_type": "stream",
     "text": [
      "Drawdown occurred on: 2024-12-22 02:46:34\n"
     ]
    }
   ],
   "source": [
    "#Find when it occurred\n",
    "drawdown_end_time = df_trade_history.loc[df_trade_history[\"Drawdown\"].idxmin(), \"Closed Time\"]\n",
    "print(f\"Drawdown occurred on: {drawdown_end_time}\")"
   ]
  },
  {
   "cell_type": "markdown",
   "id": "efec4cd4-6fcb-4e10-b15d-3ff228cab281",
   "metadata": {},
   "source": [
    "### Visualizations\n",
    "**Line plot of cumulative pnl over time**<br>\n",
    "The line plot of the cumulative pnl showed a steady return up to mid November 2024 where it rose sharply. Notice the sharp drawdowm on December 2024 and at the beginning of March 2025  as shown by our drawdown analysis we did previously"
   ]
  },
  {
   "cell_type": "code",
   "execution_count": 15,
   "id": "3b9ff5f2-a25b-496a-aba8-c0b37a857f23",
   "metadata": {},
   "outputs": [
    {
     "data": {
      "image/png": "[encoded data removed]",
      "text/plain": [
       "<Figure size 1000x500 with 1 Axes>"
      ]
     },
     "metadata": {},
     "output_type": "display_data"
    }
   ],
   "source": [
    "\n",
    "plt.figure(figsize=(10, 5))\n",
    "plt.plot(df_trade_history[\"Closed Time\"], df_trade_history[\"Cumulative PnL\"])\n",
    "plt.title(\"Cumulative PnL Over Time\")\n",
    "plt.xlabel(\"Time\")\n",
    "plt.ylabel(\"Cumulative PnL (USDT)\")\n",
    "plt.grid(True)\n",
    "plt.show()"
   ]
  },
  {
   "cell_type": "markdown",
   "id": "3e42920c-a14f-40ac-b173-dadd7a7bd955",
   "metadata": {},
   "source": [
    "**Histogram for distribution of profit and losses**<br>\n",
    "    - Most trades are centered around zero meaning the lead trader closes at small profits and losses<br>\n",
    "    - Slight right skew:<br>\n",
    "     -There are more frequent small gains, but some outliers exist on both ends.<br>\n",
    "     -The right tail (positive PnL) is longer, showing that while most gains are small, a few large positive trades occurred.<br>\n",
    "\n",
    "    "
   ]
  },
  {
   "cell_type": "code",
   "execution_count": 16,
   "id": "70a0acc1-d8e5-4a0c-be34-d50d94b3d514",
   "metadata": {},
   "outputs": [
    {
     "data": {
      "image/png": "[encoded data removed]",
      "text/plain": [
       "<Figure size 800x500 with 1 Axes>"
      ]
     },
     "metadata": {},
     "output_type": "display_data"
    }
   ],
   "source": [
    "plt.figure(figsize=(8, 5))\n",
    "plt.hist(df_trade_history[\"Closing PnL (USDT)\"], bins=30, color='skyblue', edgecolor='black')\n",
    "plt.title(\"PnL Distribution\")\n",
    "plt.xlabel(\"PnL (USDT)\")\n",
    "plt.ylabel(\"Number of Trades\")\n",
    "plt.show()\n"
   ]
  },
  {
   "cell_type": "code",
   "execution_count": null,
   "id": "ca0129ba-249a-42b2-b891-0296473910c0",
   "metadata": {},
   "outputs": [],
   "source": []
  }
 ],
 "metadata": {
  "kernelspec": {
   "display_name": "Python 3 (ipykernel)",
   "language": "python",
   "name": "python3"
  },
  "language_info": {
   "codemirror_mode": {
    "name": "ipython",
    "version": 3
   },
   "file_extension": ".py",
   "mimetype": "text/x-python",
   "name": "python",
   "nbconvert_exporter": "python",
   "pygments_lexer": "ipython3",
   "version": "3.10.12"
  }
 },
 "nbformat": 4,
 "nbformat_minor": 5
}
