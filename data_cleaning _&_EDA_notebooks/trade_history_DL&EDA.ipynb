{
 "cells": [
  {
   "cell_type": "markdown",
   "id": "84ae5459-b502-4557-b83d-221053a6c677",
   "metadata": {},
   "source": [
    "# Introduction <br>\n",
    "In this notebook I will be working with the same lead trader's data but this time it will be  the trade history.The procedure is pretty similar to the  one we used at analyzing position history but with some adaptations since the data are not similar:<br>\n",
    "1.Clean the data<br>\n",
    "2.Perform EDA on the trade history to identify the kind of strategy used <br>\n",
    "The data scraper I used left few duplicates so I had to drop them."
   ]
  },
  {
   "cell_type": "markdown",
   "id": "f6a15170-6f8c-4111-bd21-d8e224536768",
   "metadata": {},
   "source": [
    "### Clean the data"
   ]
  },
  {
   "cell_type": "code",
   "execution_count": 120,
   "id": "d8a7b9d0-1a82-4ee3-84d9-b83f1f4c32a0",
   "metadata": {},
   "outputs": [],
   "source": [
    "#Import required libraries\n",
    "import pandas as pd\n",
    "from datetime  import datetime\n",
    "import matplotlib.pyplot as plt\n",
    "import numpy as np"
   ]
  },
  {
   "cell_type": "code",
   "execution_count": 121,
   "id": "271768f2-c10a-4b93-a9bf-4dab2203e000",
   "metadata": {},
   "outputs": [
    {
     "data": {
      "text/html": [
       "<div>\n",
       "<style scoped>\n",
       "    .dataframe tbody tr th:only-of-type {\n",
       "        vertical-align: middle;\n",
       "    }\n",
       "\n",
       "    .dataframe tbody tr th {\n",
       "        vertical-align: top;\n",
       "    }\n",
       "\n",
       "    .dataframe thead th {\n",
       "        text-align: right;\n",
       "    }\n",
       "</style>\n",
       "<table border=\"1\" class=\"dataframe\">\n",
       "  <thead>\n",
       "    <tr style=\"text-align: right;\">\n",
       "      <th></th>\n",
       "      <th>Column1</th>\n",
       "      <th>Column2</th>\n",
       "      <th>Column3</th>\n",
       "      <th>Column4</th>\n",
       "      <th>Column5</th>\n",
       "      <th>Column6</th>\n",
       "      <th>Column7</th>\n",
       "    </tr>\n",
       "  </thead>\n",
       "  <tbody>\n",
       "    <tr>\n",
       "      <th>0</th>\n",
       "      <td>2025-03-21 20:43:25</td>\n",
       "      <td>SUIUSDTPerp</td>\n",
       "      <td>2025-03-21 20:43:25SUIUSDTPerpClose long2.2735...</td>\n",
       "      <td>Close long</td>\n",
       "      <td>2.273500</td>\n",
       "      <td>311.2 SUI</td>\n",
       "      <td>-16.74105000 USDT</td>\n",
       "    </tr>\n",
       "    <tr>\n",
       "      <th>1</th>\n",
       "      <td>2025-03-21 19:47:37</td>\n",
       "      <td>1000PEPEUSDTPerp</td>\n",
       "      <td>2025-03-21 19:47:371000PEPEUSDTPerpClose long0...</td>\n",
       "      <td>Close long</td>\n",
       "      <td>0.007265</td>\n",
       "      <td>97,649 1000PEPE</td>\n",
       "      <td>-6.10198149 USDT</td>\n",
       "    </tr>\n",
       "    <tr>\n",
       "      <th>2</th>\n",
       "      <td>2025-03-21 18:46:25</td>\n",
       "      <td>1000PEPEUSDTPerp</td>\n",
       "      <td>2025-03-21 18:46:251000PEPEUSDTPerpOpen long0....</td>\n",
       "      <td>Open long</td>\n",
       "      <td>0.007153</td>\n",
       "      <td>29,543 1000PEPE</td>\n",
       "      <td>0.00000000 USDT</td>\n",
       "    </tr>\n",
       "    <tr>\n",
       "      <th>3</th>\n",
       "      <td>2025-03-21 12:47:54</td>\n",
       "      <td>1000PEPEUSDTPerp</td>\n",
       "      <td>2025-03-21 12:47:541000PEPEUSDTPerpOpen long0....</td>\n",
       "      <td>Open long</td>\n",
       "      <td>0.007323</td>\n",
       "      <td>25,821 1000PEPE</td>\n",
       "      <td>0.00000000 USDT</td>\n",
       "    </tr>\n",
       "    <tr>\n",
       "      <th>4</th>\n",
       "      <td>2025-03-21 10:36:31</td>\n",
       "      <td>SUIUSDTPerp</td>\n",
       "      <td>2025-03-21 10:36:31SUIUSDTPerpOpen long2.28220...</td>\n",
       "      <td>Open long</td>\n",
       "      <td>2.282200</td>\n",
       "      <td>93.7 SUI</td>\n",
       "      <td>0.00000000 USDT</td>\n",
       "    </tr>\n",
       "  </tbody>\n",
       "</table>\n",
       "</div>"
      ],
      "text/plain": [
       "               Column1           Column2  \\\n",
       "0  2025-03-21 20:43:25       SUIUSDTPerp   \n",
       "1  2025-03-21 19:47:37  1000PEPEUSDTPerp   \n",
       "2  2025-03-21 18:46:25  1000PEPEUSDTPerp   \n",
       "3  2025-03-21 12:47:54  1000PEPEUSDTPerp   \n",
       "4  2025-03-21 10:36:31       SUIUSDTPerp   \n",
       "\n",
       "                                             Column3     Column4   Column5  \\\n",
       "0  2025-03-21 20:43:25SUIUSDTPerpClose long2.2735...  Close long  2.273500   \n",
       "1  2025-03-21 19:47:371000PEPEUSDTPerpClose long0...  Close long  0.007265   \n",
       "2  2025-03-21 18:46:251000PEPEUSDTPerpOpen long0....   Open long  0.007153   \n",
       "3  2025-03-21 12:47:541000PEPEUSDTPerpOpen long0....   Open long  0.007323   \n",
       "4  2025-03-21 10:36:31SUIUSDTPerpOpen long2.28220...   Open long  2.282200   \n",
       "\n",
       "           Column6            Column7  \n",
       "0        311.2 SUI  -16.74105000 USDT  \n",
       "1  97,649 1000PEPE   -6.10198149 USDT  \n",
       "2  29,543 1000PEPE    0.00000000 USDT  \n",
       "3  25,821 1000PEPE    0.00000000 USDT  \n",
       "4         93.7 SUI    0.00000000 USDT  "
      ]
     },
     "execution_count": 121,
     "metadata": {},
     "output_type": "execute_result"
    }
   ],
   "source": [
    "df_trade_history = pd.read_csv(\"../data/lead_trader_2m_th.csv\")\n",
    "df_trade_history.head()"
   ]
  },
  {
   "cell_type": "markdown",
   "id": "be2a4e5f-f4ae-4cda-b366-bb1d6057d92e",
   "metadata": {},
   "source": [
    "The data was messier than the position history so I had to soil myself a little bit.Colummn 3 is just the whole columns so I will drop it."
   ]
  },
  {
   "cell_type": "code",
   "execution_count": 122,
   "id": "a816d479-1368-4c99-9582-52ef9c9f2480",
   "metadata": {},
   "outputs": [],
   "source": [
    "def clean_trade_history(filepath):\n",
    "    #Rename cols\n",
    "    df_trade_history = pd.read_csv(filepath)\n",
    "    df_trade_history=df_trade_history.drop(columns= \"Column3\")\n",
    "    df_trade_history = df_trade_history.rename(columns={\n",
    "        \"Column1\":\"Time\",\n",
    "        \"Column2\":\"Symbol\",\n",
    "        \"Column4\":\"Side\",\n",
    "        \"Column5\":\"Price\",\n",
    "        \"Column6\": \"Quantity\",\n",
    "        \"Column7\": \"Realized Profit(USDT)\"\n",
    "    })\n",
    "    df_trade_history[\"Realized Profit(USDT)\"] = round(df_trade_history[\"Realized Profit(USDT)\"].str.replace(\"USDT\", \"\", regex=False).astype(float),2)\n",
    "    df_trade_history[\"Quantity\"]=[float(val.split()[0].replace(\",\",\"\")) for val in df_trade_history[\"Quantity\"]]\n",
    "    df_trade_history[\"Symbol\"]= df_trade_history[\"Symbol\"].str.replace(\"Perp\", \"\", regex=False)\n",
    "    df_trade_history[\"Time\"] = pd.to_datetime(df_trade_history[\"Time\"])\n",
    "    df_trade_history = df_trade_history.drop_duplicates()\n",
    "\n",
    "    return df_trade_history"
   ]
  },
  {
   "cell_type": "code",
   "execution_count": 123,
   "id": "d440a860-01eb-4df2-8d6e-cf1f2580f8d1",
   "metadata": {},
   "outputs": [
    {
     "data": {
      "text/html": [
       "<div>\n",
       "<style scoped>\n",
       "    .dataframe tbody tr th:only-of-type {\n",
       "        vertical-align: middle;\n",
       "    }\n",
       "\n",
       "    .dataframe tbody tr th {\n",
       "        vertical-align: top;\n",
       "    }\n",
       "\n",
       "    .dataframe thead th {\n",
       "        text-align: right;\n",
       "    }\n",
       "</style>\n",
       "<table border=\"1\" class=\"dataframe\">\n",
       "  <thead>\n",
       "    <tr style=\"text-align: right;\">\n",
       "      <th></th>\n",
       "      <th>Time</th>\n",
       "      <th>Symbol</th>\n",
       "      <th>Side</th>\n",
       "      <th>Price</th>\n",
       "      <th>Quantity</th>\n",
       "      <th>Realized Profit(USDT)</th>\n",
       "    </tr>\n",
       "  </thead>\n",
       "  <tbody>\n",
       "    <tr>\n",
       "      <th>0</th>\n",
       "      <td>2025-03-21 20:43:25</td>\n",
       "      <td>SUIUSDT</td>\n",
       "      <td>Close long</td>\n",
       "      <td>2.273500</td>\n",
       "      <td>311.2</td>\n",
       "      <td>-16.74</td>\n",
       "    </tr>\n",
       "    <tr>\n",
       "      <th>1</th>\n",
       "      <td>2025-03-21 19:47:37</td>\n",
       "      <td>1000PEPEUSDT</td>\n",
       "      <td>Close long</td>\n",
       "      <td>0.007265</td>\n",
       "      <td>97649.0</td>\n",
       "      <td>-6.10</td>\n",
       "    </tr>\n",
       "    <tr>\n",
       "      <th>2</th>\n",
       "      <td>2025-03-21 18:46:25</td>\n",
       "      <td>1000PEPEUSDT</td>\n",
       "      <td>Open long</td>\n",
       "      <td>0.007153</td>\n",
       "      <td>29543.0</td>\n",
       "      <td>0.00</td>\n",
       "    </tr>\n",
       "    <tr>\n",
       "      <th>3</th>\n",
       "      <td>2025-03-21 12:47:54</td>\n",
       "      <td>1000PEPEUSDT</td>\n",
       "      <td>Open long</td>\n",
       "      <td>0.007323</td>\n",
       "      <td>25821.0</td>\n",
       "      <td>0.00</td>\n",
       "    </tr>\n",
       "    <tr>\n",
       "      <th>4</th>\n",
       "      <td>2025-03-21 10:36:31</td>\n",
       "      <td>SUIUSDT</td>\n",
       "      <td>Open long</td>\n",
       "      <td>2.282200</td>\n",
       "      <td>93.7</td>\n",
       "      <td>0.00</td>\n",
       "    </tr>\n",
       "  </tbody>\n",
       "</table>\n",
       "</div>"
      ],
      "text/plain": [
       "                 Time        Symbol        Side     Price  Quantity  \\\n",
       "0 2025-03-21 20:43:25       SUIUSDT  Close long  2.273500     311.2   \n",
       "1 2025-03-21 19:47:37  1000PEPEUSDT  Close long  0.007265   97649.0   \n",
       "2 2025-03-21 18:46:25  1000PEPEUSDT   Open long  0.007153   29543.0   \n",
       "3 2025-03-21 12:47:54  1000PEPEUSDT   Open long  0.007323   25821.0   \n",
       "4 2025-03-21 10:36:31       SUIUSDT   Open long  2.282200      93.7   \n",
       "\n",
       "   Realized Profit(USDT)  \n",
       "0                 -16.74  \n",
       "1                  -6.10  \n",
       "2                   0.00  \n",
       "3                   0.00  \n",
       "4                   0.00  "
      ]
     },
     "execution_count": 123,
     "metadata": {},
     "output_type": "execute_result"
    }
   ],
   "source": [
    "df_trade_history= clean_trade_history(\"../data/lead_trader_2m_th.csv\")\n",
    "df_trade_history.head()"
   ]
  },
  {
   "cell_type": "code",
   "execution_count": 124,
   "id": "84336abc-b37b-41bf-a84c-38626777f65c",
   "metadata": {},
   "outputs": [
    {
     "data": {
      "text/plain": [
       "(1465, 6)"
      ]
     },
     "execution_count": 124,
     "metadata": {},
     "output_type": "execute_result"
    }
   ],
   "source": [
    "df_trade_history.shape"
   ]
  },
  {
   "cell_type": "code",
   "execution_count": 125,
   "id": "a902cac5-104f-4f08-ad7a-6acfcaa81664",
   "metadata": {},
   "outputs": [
    {
     "name": "stdout",
     "output_type": "stream",
     "text": [
      "<class 'pandas.core.frame.DataFrame'>\n",
      "Index: 1465 entries, 0 to 1727\n",
      "Data columns (total 6 columns):\n",
      " #   Column                 Non-Null Count  Dtype         \n",
      "---  ------                 --------------  -----         \n",
      " 0   Time                   1465 non-null   datetime64[ns]\n",
      " 1   Symbol                 1465 non-null   object        \n",
      " 2   Side                   1465 non-null   object        \n",
      " 3   Price                  1465 non-null   float64       \n",
      " 4   Quantity               1465 non-null   float64       \n",
      " 5   Realized Profit(USDT)  1465 non-null   float64       \n",
      "dtypes: datetime64[ns](1), float64(3), object(2)\n",
      "memory usage: 80.1+ KB\n"
     ]
    }
   ],
   "source": [
    "df_trade_history.info()"
   ]
  },
  {
   "cell_type": "code",
   "execution_count": 126,
   "id": "3f0d271a-00fc-4ed6-bb4a-e5c602ae17f3",
   "metadata": {},
   "outputs": [
    {
     "data": {
      "text/plain": [
       "0"
      ]
     },
     "execution_count": 126,
     "metadata": {},
     "output_type": "execute_result"
    }
   ],
   "source": [
    "df_trade_history.duplicated().sum()"
   ]
  },
  {
   "cell_type": "markdown",
   "id": "0108cf79-2355-4673-be0f-1fc8ad2280bc",
   "metadata": {},
   "source": [
    "Our data is now clean and ready for the next phase. Since we intend to take one symbol and overlay entry and exit points on its OHLC candlestick chart, we will the Symbol which was most traded.\n"
   ]
  },
  {
   "cell_type": "code",
   "execution_count": 127,
   "id": "29726525-19a5-47ba-b05c-e392536ba13a",
   "metadata": {},
   "outputs": [
    {
     "data": {
      "text/plain": [
       "Symbol\n",
       "1000PEPEUSDT    253\n",
       "ONDOUSDT        231\n",
       "SUIUSDT         203\n",
       "FETUSDT         185\n",
       "XRPUSDT         157\n",
       "HBARUSDT        142\n",
       "RENDERUSDT       94\n",
       "ICPUSDT          82\n",
       "XLMUSDT          54\n",
       "DOGEUSDT         51\n",
       "ALGOUSDT         13\n",
       "Name: count, dtype: int64"
      ]
     },
     "execution_count": 127,
     "metadata": {},
     "output_type": "execute_result"
    }
   ],
   "source": [
    "most_traded = df_trade_history[\"Symbol\"].value_counts()\n",
    "most_traded"
   ]
  },
  {
   "cell_type": "markdown",
   "id": "a603e582-73f2-46a7-a692-19111f6fde3f",
   "metadata": {},
   "source": [
    "Now we will subset our data to only return trades for 1000PEPEUSDT since it was the one with most trades during the period."
   ]
  },
  {
   "cell_type": "code",
   "execution_count": 128,
   "id": "35734758-2662-4feb-b0b9-ec81a7f6073e",
   "metadata": {},
   "outputs": [],
   "source": [
    "def PEPEUSDT_trades(Symbol):\n",
    "    df_1000PEPEUSDT= df_trade_history[df_trade_history[\"Symbol\"] == Symbol]\n",
    "    return df_1000PEPEUSDT "
   ]
  },
  {
   "cell_type": "code",
   "execution_count": 129,
   "id": "a0ff1aaa-a951-44ad-ba81-42f0a7235fd8",
   "metadata": {},
   "outputs": [
    {
     "data": {
      "text/html": [
       "<div>\n",
       "<style scoped>\n",
       "    .dataframe tbody tr th:only-of-type {\n",
       "        vertical-align: middle;\n",
       "    }\n",
       "\n",
       "    .dataframe tbody tr th {\n",
       "        vertical-align: top;\n",
       "    }\n",
       "\n",
       "    .dataframe thead th {\n",
       "        text-align: right;\n",
       "    }\n",
       "</style>\n",
       "<table border=\"1\" class=\"dataframe\">\n",
       "  <thead>\n",
       "    <tr style=\"text-align: right;\">\n",
       "      <th></th>\n",
       "      <th>Time</th>\n",
       "      <th>Symbol</th>\n",
       "      <th>Side</th>\n",
       "      <th>Price</th>\n",
       "      <th>Quantity</th>\n",
       "      <th>Realized Profit(USDT)</th>\n",
       "    </tr>\n",
       "  </thead>\n",
       "  <tbody>\n",
       "    <tr>\n",
       "      <th>1</th>\n",
       "      <td>2025-03-21 19:47:37</td>\n",
       "      <td>1000PEPEUSDT</td>\n",
       "      <td>Close long</td>\n",
       "      <td>0.007265</td>\n",
       "      <td>97649.0</td>\n",
       "      <td>-6.1</td>\n",
       "    </tr>\n",
       "    <tr>\n",
       "      <th>2</th>\n",
       "      <td>2025-03-21 18:46:25</td>\n",
       "      <td>1000PEPEUSDT</td>\n",
       "      <td>Open long</td>\n",
       "      <td>0.007153</td>\n",
       "      <td>29543.0</td>\n",
       "      <td>0.0</td>\n",
       "    </tr>\n",
       "    <tr>\n",
       "      <th>3</th>\n",
       "      <td>2025-03-21 12:47:54</td>\n",
       "      <td>1000PEPEUSDT</td>\n",
       "      <td>Open long</td>\n",
       "      <td>0.007323</td>\n",
       "      <td>25821.0</td>\n",
       "      <td>0.0</td>\n",
       "    </tr>\n",
       "    <tr>\n",
       "      <th>5</th>\n",
       "      <td>2025-03-21 08:07:58</td>\n",
       "      <td>1000PEPEUSDT</td>\n",
       "      <td>Open long</td>\n",
       "      <td>0.007431</td>\n",
       "      <td>22452.0</td>\n",
       "      <td>0.0</td>\n",
       "    </tr>\n",
       "    <tr>\n",
       "      <th>6</th>\n",
       "      <td>2025-03-21 07:17:45</td>\n",
       "      <td>1000PEPEUSDT</td>\n",
       "      <td>Open long</td>\n",
       "      <td>0.007477</td>\n",
       "      <td>19833.0</td>\n",
       "      <td>0.0</td>\n",
       "    </tr>\n",
       "  </tbody>\n",
       "</table>\n",
       "</div>"
      ],
      "text/plain": [
       "                 Time        Symbol        Side     Price  Quantity  \\\n",
       "1 2025-03-21 19:47:37  1000PEPEUSDT  Close long  0.007265   97649.0   \n",
       "2 2025-03-21 18:46:25  1000PEPEUSDT   Open long  0.007153   29543.0   \n",
       "3 2025-03-21 12:47:54  1000PEPEUSDT   Open long  0.007323   25821.0   \n",
       "5 2025-03-21 08:07:58  1000PEPEUSDT   Open long  0.007431   22452.0   \n",
       "6 2025-03-21 07:17:45  1000PEPEUSDT   Open long  0.007477   19833.0   \n",
       "\n",
       "   Realized Profit(USDT)  \n",
       "1                   -6.1  \n",
       "2                    0.0  \n",
       "3                    0.0  \n",
       "5                    0.0  \n",
       "6                    0.0  "
      ]
     },
     "execution_count": 129,
     "metadata": {},
     "output_type": "execute_result"
    }
   ],
   "source": [
    "df_1000PEPEUSDT = PEPEUSDT_trades(\"1000PEPEUSDT\")\n",
    "df_1000PEPEUSDT.head(5)"
   ]
  },
  {
   "cell_type": "code",
   "execution_count": 130,
   "id": "f686920c-eecb-4132-a518-2527804a42a7",
   "metadata": {},
   "outputs": [
    {
     "data": {
      "text/plain": [
       "(253, 6)"
      ]
     },
     "execution_count": 130,
     "metadata": {},
     "output_type": "execute_result"
    }
   ],
   "source": [
    "df_1000PEPEUSDT.shape"
   ]
  },
  {
   "cell_type": "markdown",
   "id": "95eac3fc-d7a0-4d88-8303-0a71306df563",
   "metadata": {},
   "source": [
    "**Merge trades that were split due to slippage** <br>\n",
    "The trades that happen within the same time stamp or less than 30s are actually a single trade but have been split due to\n",
    "slippage — the order was filled in chunks at slightly different prices or times, likely because there wasn’t enough liquidity \n",
    "to execute it all at once.This is common in fast-moving or less liquid markets."
   ]
  },
  {
   "cell_type": "code",
   "execution_count": 131,
   "id": "42bc16e2-b3fb-4833-8d5e-89646a237e0d",
   "metadata": {},
   "outputs": [],
   "source": [
    "def merge_same_timestamp_trades(df_1000PEPEUSDT):\n",
    "    # df_1000PEPEUSDT = df_1000PEPEUSDT.copy()\n",
    "    merged_rows = []\n",
    "    i = 0\n",
    "    df_1000PEPEUSDT = df_1000PEPEUSDT.sort_values(\"Time\").reset_index(drop=True)\n",
    "\n",
    "    while i < len(df_1000PEPEUSDT):\n",
    "        current_time = df_1000PEPEUSDT.iloc[i][\"Time\"]\n",
    "        \n",
    "        # Filter rows within 30 seconds window of current_time\n",
    "        same_time_rows = df_1000PEPEUSDT[\n",
    "            (df_1000PEPEUSDT[\"Time\"] >= current_time) & \n",
    "            (df_1000PEPEUSDT[\"Time\"] <= current_time + pd.Timedelta(seconds=30))\n",
    "        ]\n",
    "\n",
    "        if len(same_time_rows) > 1:\n",
    "            # Create a merged row by summing the quantities and realized profit\n",
    "            merged_row = same_time_rows.iloc[0].copy()\n",
    "            merged_row[\"Quantity\"] = same_time_rows[\"Quantity\"].sum()\n",
    "            merged_row[\"Realized Profit(USDT)\"] = same_time_rows[\"Realized Profit(USDT)\"].sum()\n",
    "            merged_rows.append(merged_row)\n",
    "            \n",
    "            # Skip over the rows that have been merged\n",
    "            i += len(same_time_rows)\n",
    "        else:\n",
    "            # If there's only one row for this timestamp, append it as is\n",
    "            merged_rows.append(df_1000PEPEUSDT.iloc[i])\n",
    "            i += 1\n",
    "\n",
    "    # Return the DataFrame with merged rows\n",
    "    df_1000PEPEUSDT = pd.DataFrame(merged_rows).reset_index(drop=True)\n",
    "    return df_1000PEPEUSDT\n",
    "df_1000PEPEUSDT = merge_same_timestamp_trades(df_1000PEPEUSDT)\n"
   ]
  },
  {
   "cell_type": "code",
   "execution_count": 132,
   "id": "fd27b3d9-9b39-437b-a20b-5941ae9b1b65",
   "metadata": {},
   "outputs": [
    {
     "data": {
      "text/plain": [
       "(192, 6)"
      ]
     },
     "execution_count": 132,
     "metadata": {},
     "output_type": "execute_result"
    }
   ],
   "source": [
    "df_1000PEPEUSDT.shape"
   ]
  },
  {
   "cell_type": "code",
   "execution_count": null,
   "id": "02eaa794-ef19-4c90-b001-f8dabe3d2884",
   "metadata": {},
   "outputs": [],
   "source": []
  },
  {
   "cell_type": "markdown",
   "id": "f11685e4-f2cf-47e5-9ad8-add854c3385b",
   "metadata": {},
   "source": [
    "**Visualizing number of open positions before closes** <br>\n",
    "The lead trader appears to use an averaging down strategy, where they open multiple buy positions at lower and lower prices after the market drops. This reduces their average entry price, aiming to profit from even a small bounce back up.It is clear that the highest number of average down was 9 (after the first open) but it only occurred once. Most trades are closed between first open and the second average down."
   ]
  },
  {
   "cell_type": "code",
   "execution_count": 133,
   "id": "7aff9143-9bf7-4a88-a5c1-fe6aa36e6c85",
   "metadata": {},
   "outputs": [
    {
     "data": {
      "text/html": [
       "<div>\n",
       "<style scoped>\n",
       "    .dataframe tbody tr th:only-of-type {\n",
       "        vertical-align: middle;\n",
       "    }\n",
       "\n",
       "    .dataframe tbody tr th {\n",
       "        vertical-align: top;\n",
       "    }\n",
       "\n",
       "    .dataframe thead th {\n",
       "        text-align: right;\n",
       "    }\n",
       "</style>\n",
       "<table border=\"1\" class=\"dataframe\">\n",
       "  <thead>\n",
       "    <tr style=\"text-align: right;\">\n",
       "      <th></th>\n",
       "      <th>Frequency</th>\n",
       "    </tr>\n",
       "    <tr>\n",
       "      <th>Number of Opens before Close</th>\n",
       "      <th></th>\n",
       "    </tr>\n",
       "  </thead>\n",
       "  <tbody>\n",
       "    <tr>\n",
       "      <th>1</th>\n",
       "      <td>6</td>\n",
       "    </tr>\n",
       "    <tr>\n",
       "      <th>2</th>\n",
       "      <td>12</td>\n",
       "    </tr>\n",
       "    <tr>\n",
       "      <th>3</th>\n",
       "      <td>10</td>\n",
       "    </tr>\n",
       "    <tr>\n",
       "      <th>4</th>\n",
       "      <td>5</td>\n",
       "    </tr>\n",
       "    <tr>\n",
       "      <th>5</th>\n",
       "      <td>3</td>\n",
       "    </tr>\n",
       "    <tr>\n",
       "      <th>6</th>\n",
       "      <td>2</td>\n",
       "    </tr>\n",
       "    <tr>\n",
       "      <th>7</th>\n",
       "      <td>1</td>\n",
       "    </tr>\n",
       "    <tr>\n",
       "      <th>8</th>\n",
       "      <td>3</td>\n",
       "    </tr>\n",
       "    <tr>\n",
       "      <th>9</th>\n",
       "      <td>1</td>\n",
       "    </tr>\n",
       "  </tbody>\n",
       "</table>\n",
       "</div>"
      ],
      "text/plain": [
       "                              Frequency\n",
       "Number of Opens before Close           \n",
       "1                                     6\n",
       "2                                    12\n",
       "3                                    10\n",
       "4                                     5\n",
       "5                                     3\n",
       "6                                     2\n",
       "7                                     1\n",
       "8                                     3\n",
       "9                                     1"
      ]
     },
     "execution_count": 133,
     "metadata": {},
     "output_type": "execute_result"
    }
   ],
   "source": [
    "# Initialize variables\n",
    "trade_counts_before_close = []\n",
    "current_open_trades = []\n",
    "\n",
    "# Iterate through the trades in the DataFrame\n",
    "for row in df_1000PEPEUSDT.itertuples():\n",
    "    if row.Side == \"Open long\":\n",
    "        current_open_trades.append(row)  # Keep track of open trades\n",
    "    elif row.Side == \"Close long\" and current_open_trades:\n",
    "        trade_counts_before_close.append(len(current_open_trades))  # Record the count of trades before this close\n",
    "        current_open_trades = []  # Reset the list for the next group\n",
    "\n",
    "# Create a DataFrame for the trade counts\n",
    "trade_counts_df = pd.DataFrame(trade_counts_before_close, columns=[\"Number of Opens before Close\"])\n",
    "trade_counts_df = trade_counts_df[\"Number of Opens before Close\"].value_counts().reset_index()\n",
    "trade_counts_df.columns = [\"Number of Opens before Close\", \"Frequency\"]\n",
    "trade_counts_df = trade_counts_df.sort_values(by=\"Number of Opens before Close\")\n",
    "trade_counts_df = trade_counts_df.set_index(\"Number of Opens before Close\")\n",
    "trade_counts_df\n"
   ]
  },
  {
   "cell_type": "code",
   "execution_count": 134,
   "id": "0c220765-fe1d-4cf0-b8f9-0999db3557b8",
   "metadata": {},
   "outputs": [
    {
     "name": "stdout",
     "output_type": "stream",
     "text": [
      "Maximum number of trades before a close: 12\n",
      "Minimum number of trades before a close: 1\n"
     ]
    }
   ],
   "source": [
    "# Summary statistics\n",
    "max_trades = trade_counts_df[\"Frequency\"].max() \n",
    "min_trades = trade_counts_df[\"Frequency\"].min() \n",
    "print(f\"Maximum number of trades before a close: {max_trades}\")\n",
    "print(f\"Minimum number of trades before a close: {min_trades}\")"
   ]
  },
  {
   "cell_type": "code",
   "execution_count": 139,
   "id": "edce470f-d285-470c-85c3-5da780a28b03",
   "metadata": {},
   "outputs": [
    {
     "data": {
      "image/png": "[encoded data removed]",
      "text/plain": [
       "<Figure size 1000x600 with 1 Axes>"
      ]
     },
     "metadata": {},
     "output_type": "display_data"
    }
   ],
   "source": [
    "# Plotting the distribution of trade counts before a close using a horizontal bar plot\n",
    "plt.figure(figsize=(10, 6))\n",
    "trade_counts_df.sort_values(\"Frequency\", ascending=True)[\"Frequency\"].plot(kind='barh', color='skyblue', edgecolor='black')\n",
    "plt.xlabel(\"Frequency\")\n",
    "plt.ylabel(\"Number of Trades Before Close\")\n",
    "plt.title(\"Distribution of Number of Trades Before a Close\")\n",
    "plt.show()\n"
   ]
  },
  {
   "cell_type": "code",
   "execution_count": null,
   "id": "165fc22b-6ae7-4ef2-ad98-8fd91e2f62a8",
   "metadata": {},
   "outputs": [],
   "source": []
  }
 ],
 "metadata": {
  "kernelspec": {
   "display_name": "Python 3 (ipykernel)",
   "language": "python",
   "name": "python3"
  },
  "language_info": {
   "codemirror_mode": {
    "name": "ipython",
    "version": 3
   },
   "file_extension": ".py",
   "mimetype": "text/x-python",
   "name": "python",
   "nbconvert_exporter": "python",
   "pygments_lexer": "ipython3",
   "version": "3.10.12"
  }
 },
 "nbformat": 4,
 "nbformat_minor": 5
}
